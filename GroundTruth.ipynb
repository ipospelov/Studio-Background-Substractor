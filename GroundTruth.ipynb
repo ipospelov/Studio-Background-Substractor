{
 "cells": [
  {
   "cell_type": "code",
   "execution_count": 1,
   "metadata": {},
   "outputs": [],
   "source": [
    "import numpy as np\n",
    "import cv2\n",
    "from matplotlib import pyplot as plt"
   ]
  },
  {
   "cell_type": "code",
   "execution_count": 2,
   "metadata": {},
   "outputs": [],
   "source": [
    "KERNEL_SIZE = (10, 10)"
   ]
  },
  {
   "cell_type": "code",
   "execution_count": 3,
   "metadata": {},
   "outputs": [],
   "source": [
    "# input data init \n",
    "background = cv2.imread('input_images/fat_cat_resized.jpg')\n",
    "gt_background = cv2.imread('input_images/input_image2.jpg')\n",
    "gtb_blured = cv2.blur(gt_background, KERNEL_SIZE)\n",
    "gtb_lab = cv2.cvtColor(gt_background, cv2.COLOR_BGR2Lab)\n",
    "gtb_lab_blured = cv2.blur(gtb_lab, KERNEL_SIZE)\n",
    "gtb_hsv = cv2.cvtColor(gt_background, cv2.COLOR_BGR2HSV)\n",
    "gtb_hsv_blured = cv2.blur(gtb_hsv, KERNEL_SIZE)\n",
    "gtb_gray = cv2.cvtColor(gt_background, cv2.COLOR_BGR2GRAY)\n",
    "gtb_gray_blured = cv2.blur(gtb_gray, KERNEL_SIZE)\n",
    "cap = cv2.VideoCapture('input_videos/test_video3.mp4')"
   ]
  },
  {
   "cell_type": "code",
   "execution_count": 4,
   "metadata": {},
   "outputs": [],
   "source": [
    "# video writer configuration\n",
    "w = cap.get(cv2.CAP_PROP_FRAME_WIDTH);\n",
    "h = cap.get(cv2.CAP_PROP_FRAME_HEIGHT); \n",
    "fourcc = cv2.VideoWriter_fourcc(*'mp4v')\n",
    "out = cv2.VideoWriter('output_videos/GT.mp4',fourcc, 30.0, (int(w),int(h)))"
   ]
  },
  {
   "cell_type": "code",
   "execution_count": 5,
   "metadata": {},
   "outputs": [],
   "source": [
    "from colormath.color_diff import delta_e_cie2000\n",
    "from colormath.color_objects import LabColor\n",
    "\n",
    "# array of measures of changes\n",
    "def ciede_distances(source_img1, source_img2):\n",
    "    img1 = np.array(source_img1, dtype=np.int32)    \n",
    "    img2 = np.array(source_img2, dtype=np.int32)  \n",
    "    \n",
    "    if img2.shape[0] != img1.shape[0] or img2.shape[1] != img1.shape[1]:\n",
    "        raise Exception('Wrong image sizes')\n",
    "        \n",
    "    h = img1.shape[0]\n",
    "    w = img1.shape[1]\n",
    "    \n",
    "    measures = np.empty(img1.shape)\n",
    "    \n",
    "    for y in range(0, h):\n",
    "        for x in range(0, w):\n",
    "            color1_lab = LabColor(img1[y,x][0], img1[y,x][1], img1[y,x][2])\n",
    "            color2_lab = LabColor(img2[y,x][0], img2[y,x][1], img2[y,x][2])\n",
    "            measures[y, x] = delta_e_cie2000(color1_lab, color2_lab)\n",
    "              \n",
    "    return measures"
   ]
  },
  {
   "cell_type": "code",
   "execution_count": 6,
   "metadata": {},
   "outputs": [],
   "source": [
    "def euclidean_distances(source_img1, source_img2, weights=np.array([1,1,1])):\n",
    "    img1 = np.array(source_img1, dtype=np.int32)    \n",
    "    img2 = np.array(source_img2, dtype=np.int32)  \n",
    "    img1 = img1 * weights\n",
    "    img2 = img2 * weights\n",
    "    \n",
    "    if img2.shape[0] != img1.shape[0] or img2.shape[1] != img1.shape[1]:\n",
    "        raise Exception('Wrong image sizes')\n",
    "    \n",
    "    measures = np.empty(img1.shape)\n",
    "    measures = np.linalg.norm(img1 - img2, axis=-1)\n",
    "    \n",
    "    return measures"
   ]
  },
  {
   "cell_type": "code",
   "execution_count": 7,
   "metadata": {},
   "outputs": [],
   "source": [
    "import math\n",
    "def euclidean_exp(img_1, img_2):\n",
    "    img1 = np.array(img_1, dtype=np.int32)    \n",
    "    img2 = np.array(img_2, dtype=np.int32)  \n",
    "    \n",
    "    if img2.shape[0] != img1.shape[0] or img2.shape[1] != img1.shape[1]:\n",
    "        raise Exception('Wrong image sizes')\n",
    "    \n",
    "    measures = np.empty(img1.shape[0:-1])\n",
    "    \n",
    "    h = img1.shape[0]\n",
    "    w = img1.shape[1]\n",
    "    \n",
    "    for y in range(0, h):\n",
    "            for x in range(0, w):\n",
    "                d = (img1[y,x][0] - img2[y,x][0])**2 + (img1[y,x][1] - img2[y,x][1])**2 + (img1[y,x][2] - img2[y,x][2])**2\n",
    "                measures[y, x] = math.sqrt(d)\n",
    "              \n",
    "    return measures\n"
   ]
  },
  {
   "cell_type": "code",
   "execution_count": 8,
   "metadata": {},
   "outputs": [],
   "source": [
    "def distances_gray(img1, img2):\n",
    "    if img2.shape[0] != img1.shape[0] or img2.shape[1] != img1.shape[1]:\n",
    "        raise Exception('Wrong image sizes')\n",
    "\n",
    "    measures = (img1 - img2)\n",
    "    measures = (measures > 0) * measures\n",
    "    normalized_measures = np.uint8(measures)\n",
    "    \n",
    "    return normalized_measures"
   ]
  },
  {
   "cell_type": "code",
   "execution_count": 9,
   "metadata": {},
   "outputs": [],
   "source": [
    "def threshold(image, threshold):\n",
    "    white = np.full(image.shape, 255.0)\n",
    "    return (image > threshold) * white"
   ]
  },
  {
   "cell_type": "code",
   "execution_count": 10,
   "metadata": {},
   "outputs": [],
   "source": [
    "def change_background(mask, image, frame):\n",
    "    mask = cv2.blur(mask, (3,3))\n",
    "    masked_frame = ((mask == 255.0) * frame)\n",
    "    masked_image = ((mask != 255.0) * image)\n",
    "    return masked_frame + masked_image"
   ]
  },
  {
   "cell_type": "code",
   "execution_count": 11,
   "metadata": {},
   "outputs": [],
   "source": [
    "#weights=[0.5, 5, 5], thresh = 45 are good\n",
    "def ground_thruth_lab_euclidean(cap):\n",
    "    while(cap.isOpened()):\n",
    "        ret, frame = cap.read()\n",
    "        if ret==True:\n",
    "            frame_lab = cv2.cvtColor(frame, cv2.COLOR_BGR2Lab)\n",
    "            frame_lab_blured = cv2.blur(frame_lab, KERNEL_SIZE)\n",
    "\n",
    "            measures = euclidean_distances(gtb_lab_blured, frame_lab_blured, weights=np.array([0.3, 3.5, 3.5]))\n",
    "            normalized_measures = threshold(measures, 30.0)\n",
    "            normalized_measures = np.uint8(normalized_measures)\n",
    "            fgmask = cv2.cvtColor(normalized_measures, cv2.COLOR_GRAY2BGR)\n",
    "\n",
    "            result = change_background(fgmask, background, frame)\n",
    "            \n",
    "            out.write(result)\n",
    "\n",
    "        else:\n",
    "            break\n",
    "            \n",
    "    cap.release()\n",
    "    out.release()"
   ]
  },
  {
   "cell_type": "code",
   "execution_count": 12,
   "metadata": {},
   "outputs": [],
   "source": [
    "def ground_thruth_rgb_euclidean(cap):\n",
    "    while(cap.isOpened()):\n",
    "        ret, frame = cap.read()\n",
    "        if ret==True:\n",
    "            frame_blured = cv2.blur(frame, KERNEL_SIZE)\n",
    "            measures = euclidean_distances(gtb_blured, frame_blured)\n",
    "            normalized_measures = threshold(measures, 95.0)\n",
    "            normalized_measures = np.uint8(normalized_measures)\n",
    "            fgmask = cv2.cvtColor(normalized_measures, cv2.COLOR_GRAY2BGR)\n",
    "\n",
    "            out.write(fgmask)\n",
    "\n",
    "        else:\n",
    "            break\n",
    "            \n",
    "    cap.release()\n",
    "    out.release()"
   ]
  },
  {
   "cell_type": "code",
   "execution_count": 13,
   "metadata": {},
   "outputs": [],
   "source": [
    "def ground_thruth_hsv_euclidean(cap):\n",
    "    while(cap.isOpened()):\n",
    "        ret, frame = cap.read()\n",
    "        if ret==True:\n",
    "            frame_hsv = cv2.cvtColor(frame, cv2.COLOR_BGR2HSV)\n",
    "            frame_hsv_blured = cv2.blur(frame_hsv, KERNEL_SIZE)\n",
    "            measures = euclidean_distances(gtb_hsv_blured, frame_hsv_blured, weights=np.array([5, 1, 5]))\n",
    "            normalized_measures = threshold(measures, 185.0)\n",
    "            normalized_measures = np.uint8(normalized_measures)\n",
    "            fgmask = cv2.cvtColor(normalized_measures, cv2.COLOR_GRAY2BGR)\n",
    "            \n",
    "            out.write(fgmask)\n",
    "\n",
    "        else:\n",
    "            break\n",
    "            \n",
    "    cap.release()\n",
    "    out.release()"
   ]
  },
  {
   "cell_type": "code",
   "execution_count": 14,
   "metadata": {},
   "outputs": [],
   "source": [
    "ground_thruth_lab_euclidean(cap)"
   ]
  },
  {
   "cell_type": "code",
   "execution_count": null,
   "metadata": {},
   "outputs": [],
   "source": []
  },
  {
   "cell_type": "code",
   "execution_count": null,
   "metadata": {},
   "outputs": [],
   "source": []
  }
 ],
 "metadata": {
  "kernelspec": {
   "display_name": "Python 3",
   "language": "python",
   "name": "python3"
  },
  "language_info": {
   "codemirror_mode": {
    "name": "ipython",
    "version": 3
   },
   "file_extension": ".py",
   "mimetype": "text/x-python",
   "name": "python",
   "nbconvert_exporter": "python",
   "pygments_lexer": "ipython3",
   "version": "3.7.0"
  }
 },
 "nbformat": 4,
 "nbformat_minor": 2
}
